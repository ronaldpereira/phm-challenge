{
 "cells": [
  {
   "cell_type": "markdown",
   "metadata": {},
   "source": [
    "# PHM Article Reproduction"
   ]
  },
  {
   "cell_type": "markdown",
   "metadata": {},
   "source": [
    "### The main objective is to develop a model based on first two years of dataset (training) and determine the high risk and low risk times of failures for each individual asset for the 3rd year\n",
    "\n",
    "Training data shows many maintenance activities with 14 different codes. The principle difficulty is to detect the\n",
    "Preventive Maintenance (PM) in the training data.\n",
    "\n",
    "3 main steps:\n",
    "\n",
    "- Recognize Predictive Maintenance pattern based on time and type of maintenance activity via the training data\n",
    "- Determine the high-risk time intervals based on Predictive Maintenance time by checking the frequency of the failures at specific times between each PM\n",
    "- Predict the high-risk time intervals in the testing data using the information acquired from the training data (1st and 2nd years)"
   ]
  },
  {
   "cell_type": "markdown",
   "metadata": {},
   "source": [
    "### Library imports"
   ]
  },
  {
   "cell_type": "code",
   "execution_count": 1,
   "metadata": {
    "ExecuteTime": {
     "end_time": "2019-11-13T15:19:06.979294Z",
     "start_time": "2019-11-13T15:19:06.604045Z"
    }
   },
   "outputs": [],
   "source": [
    "import numpy as np\n",
    "import pandas as pd\n",
    "import matplotlib.pyplot as plt"
   ]
  },
  {
   "cell_type": "markdown",
   "metadata": {},
   "source": [
    "### Data Loading"
   ]
  },
  {
   "cell_type": "code",
   "execution_count": 2,
   "metadata": {
    "ExecuteTime": {
     "end_time": "2019-11-13T15:19:07.083658Z",
     "start_time": "2019-11-13T15:19:06.980715Z"
    }
   },
   "outputs": [
    {
     "data": {
      "text/html": [
       "<div>\n",
       "<style scoped>\n",
       "    .dataframe tbody tr th:only-of-type {\n",
       "        vertical-align: middle;\n",
       "    }\n",
       "\n",
       "    .dataframe tbody tr th {\n",
       "        vertical-align: top;\n",
       "    }\n",
       "\n",
       "    .dataframe thead th {\n",
       "        text-align: right;\n",
       "    }\n",
       "</style>\n",
       "<table border=\"1\" class=\"dataframe\">\n",
       "  <thead>\n",
       "    <tr style=\"text-align: right;\">\n",
       "      <th></th>\n",
       "      <th>Asset</th>\n",
       "      <th>Time</th>\n",
       "      <th>Reason</th>\n",
       "      <th>Part</th>\n",
       "      <th>Quantity</th>\n",
       "    </tr>\n",
       "  </thead>\n",
       "  <tbody>\n",
       "    <tr>\n",
       "      <th>0</th>\n",
       "      <td>A311482</td>\n",
       "      <td>0</td>\n",
       "      <td>R417</td>\n",
       "      <td>P361646</td>\n",
       "      <td>1.0</td>\n",
       "    </tr>\n",
       "    <tr>\n",
       "      <th>1</th>\n",
       "      <td>A174613</td>\n",
       "      <td>0</td>\n",
       "      <td>R707</td>\n",
       "      <td>P991287</td>\n",
       "      <td>1.0</td>\n",
       "    </tr>\n",
       "    <tr>\n",
       "      <th>2</th>\n",
       "      <td>A174613</td>\n",
       "      <td>0</td>\n",
       "      <td>R707</td>\n",
       "      <td>P169319</td>\n",
       "      <td>1.0</td>\n",
       "    </tr>\n",
       "    <tr>\n",
       "      <th>3</th>\n",
       "      <td>A060723</td>\n",
       "      <td>0</td>\n",
       "      <td>R193</td>\n",
       "      <td>P184448</td>\n",
       "      <td>0.0</td>\n",
       "    </tr>\n",
       "    <tr>\n",
       "      <th>4</th>\n",
       "      <td>A174613</td>\n",
       "      <td>0</td>\n",
       "      <td>R707</td>\n",
       "      <td>P097048</td>\n",
       "      <td>1.0</td>\n",
       "    </tr>\n",
       "  </tbody>\n",
       "</table>\n",
       "</div>"
      ],
      "text/plain": [
       "     Asset  Time Reason     Part  Quantity\n",
       "0  A311482     0   R417  P361646       1.0\n",
       "1  A174613     0   R707  P991287       1.0\n",
       "2  A174613     0   R707  P169319       1.0\n",
       "3  A060723     0   R193  P184448       0.0\n",
       "4  A174613     0   R707  P097048       1.0"
      ]
     },
     "execution_count": 2,
     "metadata": {},
     "output_type": "execute_result"
    }
   ],
   "source": [
    "consumption = pd.read_csv(\"../data/Train - Part Consumption.csv\")\n",
    "\n",
    "consumption.head()"
   ]
  },
  {
   "cell_type": "code",
   "execution_count": 3,
   "metadata": {
    "ExecuteTime": {
     "end_time": "2019-11-13T15:19:07.100303Z",
     "start_time": "2019-11-13T15:19:07.085170Z"
    }
   },
   "outputs": [
    {
     "data": {
      "text/html": [
       "<div>\n",
       "<style scoped>\n",
       "    .dataframe tbody tr th:only-of-type {\n",
       "        vertical-align: middle;\n",
       "    }\n",
       "\n",
       "    .dataframe tbody tr th {\n",
       "        vertical-align: top;\n",
       "    }\n",
       "\n",
       "    .dataframe thead th {\n",
       "        text-align: right;\n",
       "    }\n",
       "</style>\n",
       "<table border=\"1\" class=\"dataframe\">\n",
       "  <thead>\n",
       "    <tr style=\"text-align: right;\">\n",
       "      <th></th>\n",
       "      <th>Asset</th>\n",
       "      <th>Time</th>\n",
       "      <th>Use</th>\n",
       "    </tr>\n",
       "  </thead>\n",
       "  <tbody>\n",
       "    <tr>\n",
       "      <th>0</th>\n",
       "      <td>A403193</td>\n",
       "      <td>5</td>\n",
       "      <td>31194.652034</td>\n",
       "    </tr>\n",
       "    <tr>\n",
       "      <th>1</th>\n",
       "      <td>A403193</td>\n",
       "      <td>17</td>\n",
       "      <td>31223.536355</td>\n",
       "    </tr>\n",
       "    <tr>\n",
       "      <th>2</th>\n",
       "      <td>A403193</td>\n",
       "      <td>56</td>\n",
       "      <td>31362.706261</td>\n",
       "    </tr>\n",
       "    <tr>\n",
       "      <th>3</th>\n",
       "      <td>A403193</td>\n",
       "      <td>124</td>\n",
       "      <td>31701.440562</td>\n",
       "    </tr>\n",
       "    <tr>\n",
       "      <th>4</th>\n",
       "      <td>A403193</td>\n",
       "      <td>144</td>\n",
       "      <td>31724.489666</td>\n",
       "    </tr>\n",
       "  </tbody>\n",
       "</table>\n",
       "</div>"
      ],
      "text/plain": [
       "     Asset  Time           Use\n",
       "0  A403193     5  31194.652034\n",
       "1  A403193    17  31223.536355\n",
       "2  A403193    56  31362.706261\n",
       "3  A403193   124  31701.440562\n",
       "4  A403193   144  31724.489666"
      ]
     },
     "execution_count": 3,
     "metadata": {},
     "output_type": "execute_result"
    }
   ],
   "source": [
    "usage = pd.read_csv(\"../data/Train - Usage.csv\")\n",
    "\n",
    "usage.head()"
   ]
  },
  {
   "cell_type": "code",
   "execution_count": 4,
   "metadata": {
    "ExecuteTime": {
     "end_time": "2019-11-13T15:19:07.114041Z",
     "start_time": "2019-11-13T15:19:07.103223Z"
    }
   },
   "outputs": [
    {
     "data": {
      "text/html": [
       "<div>\n",
       "<style scoped>\n",
       "    .dataframe tbody tr th:only-of-type {\n",
       "        vertical-align: middle;\n",
       "    }\n",
       "\n",
       "    .dataframe tbody tr th {\n",
       "        vertical-align: top;\n",
       "    }\n",
       "\n",
       "    .dataframe thead th {\n",
       "        text-align: right;\n",
       "    }\n",
       "</style>\n",
       "<table border=\"1\" class=\"dataframe\">\n",
       "  <thead>\n",
       "    <tr style=\"text-align: right;\">\n",
       "      <th></th>\n",
       "      <th>Asset</th>\n",
       "      <th>Time</th>\n",
       "    </tr>\n",
       "  </thead>\n",
       "  <tbody>\n",
       "    <tr>\n",
       "      <th>0</th>\n",
       "      <td>A403193</td>\n",
       "      <td>137</td>\n",
       "    </tr>\n",
       "    <tr>\n",
       "      <th>1</th>\n",
       "      <td>A403193</td>\n",
       "      <td>146</td>\n",
       "    </tr>\n",
       "    <tr>\n",
       "      <th>2</th>\n",
       "      <td>A403193</td>\n",
       "      <td>155</td>\n",
       "    </tr>\n",
       "    <tr>\n",
       "      <th>3</th>\n",
       "      <td>A403193</td>\n",
       "      <td>229</td>\n",
       "    </tr>\n",
       "    <tr>\n",
       "      <th>4</th>\n",
       "      <td>A403193</td>\n",
       "      <td>420</td>\n",
       "    </tr>\n",
       "  </tbody>\n",
       "</table>\n",
       "</div>"
      ],
      "text/plain": [
       "     Asset  Time\n",
       "0  A403193   137\n",
       "1  A403193   146\n",
       "2  A403193   155\n",
       "3  A403193   229\n",
       "4  A403193   420"
      ]
     },
     "execution_count": 4,
     "metadata": {},
     "output_type": "execute_result"
    }
   ],
   "source": [
    "failures = pd.read_csv(\"../data/Train - Failures.csv\")\n",
    "\n",
    "failures.head()"
   ]
  },
  {
   "cell_type": "markdown",
   "metadata": {},
   "source": [
    "## Data Preprocessing"
   ]
  },
  {
   "cell_type": "code",
   "execution_count": 5,
   "metadata": {
    "ExecuteTime": {
     "end_time": "2019-11-13T15:19:07.154385Z",
     "start_time": "2019-11-13T15:19:07.115201Z"
    }
   },
   "outputs": [
    {
     "data": {
      "text/html": [
       "<div>\n",
       "<style scoped>\n",
       "    .dataframe tbody tr th:only-of-type {\n",
       "        vertical-align: middle;\n",
       "    }\n",
       "\n",
       "    .dataframe tbody tr th {\n",
       "        vertical-align: top;\n",
       "    }\n",
       "\n",
       "    .dataframe thead th {\n",
       "        text-align: right;\n",
       "    }\n",
       "</style>\n",
       "<table border=\"1\" class=\"dataframe\">\n",
       "  <thead>\n",
       "    <tr style=\"text-align: right;\">\n",
       "      <th></th>\n",
       "      <th>Asset</th>\n",
       "      <th>Time</th>\n",
       "      <th>Reason</th>\n",
       "      <th>Part</th>\n",
       "      <th>Quantity</th>\n",
       "    </tr>\n",
       "  </thead>\n",
       "  <tbody>\n",
       "    <tr>\n",
       "      <th>0</th>\n",
       "      <td>A311482</td>\n",
       "      <td>0</td>\n",
       "      <td>R417</td>\n",
       "      <td>P361646</td>\n",
       "      <td>1.0</td>\n",
       "    </tr>\n",
       "    <tr>\n",
       "      <th>1</th>\n",
       "      <td>A174613</td>\n",
       "      <td>0</td>\n",
       "      <td>R707</td>\n",
       "      <td>P991287</td>\n",
       "      <td>1.0</td>\n",
       "    </tr>\n",
       "    <tr>\n",
       "      <th>2</th>\n",
       "      <td>A174613</td>\n",
       "      <td>0</td>\n",
       "      <td>R707</td>\n",
       "      <td>P169319</td>\n",
       "      <td>1.0</td>\n",
       "    </tr>\n",
       "    <tr>\n",
       "      <th>3</th>\n",
       "      <td>A174613</td>\n",
       "      <td>0</td>\n",
       "      <td>R707</td>\n",
       "      <td>P097048</td>\n",
       "      <td>1.0</td>\n",
       "    </tr>\n",
       "    <tr>\n",
       "      <th>4</th>\n",
       "      <td>A174613</td>\n",
       "      <td>0</td>\n",
       "      <td>R707</td>\n",
       "      <td>P169319</td>\n",
       "      <td>1.0</td>\n",
       "    </tr>\n",
       "  </tbody>\n",
       "</table>\n",
       "</div>"
      ],
      "text/plain": [
       "     Asset  Time Reason     Part  Quantity\n",
       "0  A311482     0   R417  P361646       1.0\n",
       "1  A174613     0   R707  P991287       1.0\n",
       "2  A174613     0   R707  P169319       1.0\n",
       "3  A174613     0   R707  P097048       1.0\n",
       "4  A174613     0   R707  P169319       1.0"
      ]
     },
     "execution_count": 5,
     "metadata": {},
     "output_type": "execute_result"
    }
   ],
   "source": [
    "indexes = consumption.query(\"Quantity <= 0 or Quantity >= 50\").index\n",
    "consumption.drop(indexes, inplace=True)\n",
    "consumption.reset_index(drop=True, inplace=True)\n",
    "\n",
    "consumption.head()"
   ]
  },
  {
   "cell_type": "code",
   "execution_count": 6,
   "metadata": {
    "ExecuteTime": {
     "end_time": "2019-11-13T15:19:07.394591Z",
     "start_time": "2019-11-13T15:19:07.155908Z"
    }
   },
   "outputs": [
    {
     "data": {
      "text/html": [
       "<div>\n",
       "<style scoped>\n",
       "    .dataframe tbody tr th:only-of-type {\n",
       "        vertical-align: middle;\n",
       "    }\n",
       "\n",
       "    .dataframe tbody tr th {\n",
       "        vertical-align: top;\n",
       "    }\n",
       "\n",
       "    .dataframe thead th {\n",
       "        text-align: right;\n",
       "    }\n",
       "</style>\n",
       "<table border=\"1\" class=\"dataframe\">\n",
       "  <thead>\n",
       "    <tr style=\"text-align: right;\">\n",
       "      <th></th>\n",
       "      <th>Asset</th>\n",
       "      <th>Time</th>\n",
       "      <th>Reason</th>\n",
       "      <th>Part</th>\n",
       "      <th>Quantity</th>\n",
       "    </tr>\n",
       "  </thead>\n",
       "  <tbody>\n",
       "    <tr>\n",
       "      <th>0</th>\n",
       "      <td>311482</td>\n",
       "      <td>0</td>\n",
       "      <td>417</td>\n",
       "      <td>361646</td>\n",
       "      <td>1</td>\n",
       "    </tr>\n",
       "    <tr>\n",
       "      <th>1</th>\n",
       "      <td>174613</td>\n",
       "      <td>0</td>\n",
       "      <td>707</td>\n",
       "      <td>991287</td>\n",
       "      <td>1</td>\n",
       "    </tr>\n",
       "    <tr>\n",
       "      <th>2</th>\n",
       "      <td>174613</td>\n",
       "      <td>0</td>\n",
       "      <td>707</td>\n",
       "      <td>169319</td>\n",
       "      <td>1</td>\n",
       "    </tr>\n",
       "    <tr>\n",
       "      <th>3</th>\n",
       "      <td>174613</td>\n",
       "      <td>0</td>\n",
       "      <td>707</td>\n",
       "      <td>97048</td>\n",
       "      <td>1</td>\n",
       "    </tr>\n",
       "    <tr>\n",
       "      <th>4</th>\n",
       "      <td>174613</td>\n",
       "      <td>0</td>\n",
       "      <td>707</td>\n",
       "      <td>169319</td>\n",
       "      <td>1</td>\n",
       "    </tr>\n",
       "  </tbody>\n",
       "</table>\n",
       "</div>"
      ],
      "text/plain": [
       "    Asset  Time  Reason    Part  Quantity\n",
       "0  311482     0     417  361646         1\n",
       "1  174613     0     707  991287         1\n",
       "2  174613     0     707  169319         1\n",
       "3  174613     0     707   97048         1\n",
       "4  174613     0     707  169319         1"
      ]
     },
     "execution_count": 6,
     "metadata": {},
     "output_type": "execute_result"
    }
   ],
   "source": [
    "consumption['Asset'] = consumption['Asset'].str.slice(1,).astype(np.int32)\n",
    "consumption['Time'] = consumption['Time'].astype(np.int32)\n",
    "consumption['Reason'] = consumption['Reason'].str.slice(1,).astype(np.int32)\n",
    "consumption['Part'] = consumption['Part'].str.slice(1,).astype(np.int32)\n",
    "consumption['Quantity'] = consumption['Quantity'].astype(np.int32)\n",
    "\n",
    "consumption.head()"
   ]
  },
  {
   "cell_type": "code",
   "execution_count": 7,
   "metadata": {
    "ExecuteTime": {
     "end_time": "2019-11-13T15:19:07.412882Z",
     "start_time": "2019-11-13T15:19:07.396361Z"
    }
   },
   "outputs": [
    {
     "data": {
      "text/html": [
       "<div>\n",
       "<style scoped>\n",
       "    .dataframe tbody tr th:only-of-type {\n",
       "        vertical-align: middle;\n",
       "    }\n",
       "\n",
       "    .dataframe tbody tr th {\n",
       "        vertical-align: top;\n",
       "    }\n",
       "\n",
       "    .dataframe thead th {\n",
       "        text-align: right;\n",
       "    }\n",
       "</style>\n",
       "<table border=\"1\" class=\"dataframe\">\n",
       "  <thead>\n",
       "    <tr style=\"text-align: right;\">\n",
       "      <th></th>\n",
       "      <th>Asset</th>\n",
       "      <th>Time</th>\n",
       "      <th>Use</th>\n",
       "    </tr>\n",
       "  </thead>\n",
       "  <tbody>\n",
       "    <tr>\n",
       "      <th>0</th>\n",
       "      <td>403193</td>\n",
       "      <td>5</td>\n",
       "      <td>31194.652034</td>\n",
       "    </tr>\n",
       "    <tr>\n",
       "      <th>1</th>\n",
       "      <td>403193</td>\n",
       "      <td>17</td>\n",
       "      <td>31223.536355</td>\n",
       "    </tr>\n",
       "    <tr>\n",
       "      <th>2</th>\n",
       "      <td>403193</td>\n",
       "      <td>56</td>\n",
       "      <td>31362.706261</td>\n",
       "    </tr>\n",
       "    <tr>\n",
       "      <th>3</th>\n",
       "      <td>403193</td>\n",
       "      <td>124</td>\n",
       "      <td>31701.440562</td>\n",
       "    </tr>\n",
       "    <tr>\n",
       "      <th>4</th>\n",
       "      <td>403193</td>\n",
       "      <td>144</td>\n",
       "      <td>31724.489666</td>\n",
       "    </tr>\n",
       "  </tbody>\n",
       "</table>\n",
       "</div>"
      ],
      "text/plain": [
       "    Asset  Time           Use\n",
       "0  403193     5  31194.652034\n",
       "1  403193    17  31223.536355\n",
       "2  403193    56  31362.706261\n",
       "3  403193   124  31701.440562\n",
       "4  403193   144  31724.489666"
      ]
     },
     "execution_count": 7,
     "metadata": {},
     "output_type": "execute_result"
    }
   ],
   "source": [
    "usage['Asset'] = usage['Asset'].str.slice(1,).astype(np.int32)\n",
    "usage['Time'] = usage['Time'].astype(np.int32)\n",
    "usage['Use'] = usage['Use'].astype(np.float64)\n",
    "\n",
    "usage.head()"
   ]
  },
  {
   "cell_type": "code",
   "execution_count": 8,
   "metadata": {},
   "outputs": [
    {
     "data": {
      "image/png": "[encoded data removed]",
      "text/plain": [
       "<Figure size 1008x432 with 1 Axes>"
      ]
     },
     "metadata": {
      "needs_background": "light"
     },
     "output_type": "display_data"
    }
   ],
   "source": [
    "use_group = usage.groupby('Asset')['Use']\n",
    "asset_group = usage['Asset'].unique()\n",
    "std_usages = use_group.std().to_numpy()\n",
    "mean_usages = use_group.mean().to_numpy()\n",
    "\n",
    "# Outliers removal\n",
    "for i, mean in enumerate(mean_usages):\n",
    "    if mean >= 40000:\n",
    "        mean_usages = np.delete(mean_usages, i)\n",
    "        std_usages = np.delete(std_usages, i)\n",
    "        asset_group = np.delete(asset_group, i)\n",
    "\n",
    "plt.figure(figsize=(14, 6))\n",
    "plt.plot(mean_usages, std_usages / mean_usages, 'bo', alpha=0.5)\n",
    "plt.title('Assets Clustering by Usage', fontsize=15)\n",
    "plt.xlabel('Usages Mean', fontsize=15)\n",
    "plt.ylabel('Usages Std/Mean', fontsize=15)\n",
    "plt.show()"
   ]
  },
  {
   "cell_type": "code",
   "execution_count": 14,
   "metadata": {},
   "outputs": [
    {
     "data": {
      "image/png": "[encoded data removed]",
      "text/plain": [
       "<Figure size 576x576 with 1 Axes>"
      ]
     },
     "metadata": {
      "needs_background": "light"
     },
     "output_type": "display_data"
    }
   ],
   "source": [
    "plt.figure(figsize=(8, 8))\n",
    "plt.hist(consumption[\"Quantity\"], bins=50)\n",
    "plt.grid()\n",
    "plt.title('Assets Clustering by Usage', fontsize=15)\n",
    "plt.xlabel('Usages Mean', fontsize=15)\n",
    "plt.ylabel('Usages Std/Mean', fontsize=15)\n",
    "plt.show()"
   ]
  }
 ],
 "metadata": {
  "kernelspec": {
   "display_name": ".venv",
   "language": "python",
   "name": ".venv"
  },
  "language_info": {
   "codemirror_mode": {
    "name": "ipython",
    "version": 3
   },
   "file_extension": ".py",
   "mimetype": "text/x-python",
   "name": "python",
   "nbconvert_exporter": "python",
   "pygments_lexer": "ipython3",
   "version": "3.7.3"
  }
 },
 "nbformat": 4,
 "nbformat_minor": 2
}
